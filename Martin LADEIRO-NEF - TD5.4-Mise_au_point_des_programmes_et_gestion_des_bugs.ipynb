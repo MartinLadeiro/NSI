{
  "metadata": {
    "colab": {
      "provenance": []
    },
    "kernelspec": {
      "name": "python",
      "display_name": "Python (Pyodide)",
      "language": "python"
    },
    "language_info": {
      "codemirror_mode": {
        "name": "python",
        "version": 3
      },
      "file_extension": ".py",
      "mimetype": "text/x-python",
      "name": "python",
      "nbconvert_exporter": "python",
      "pygments_lexer": "ipython3",
      "version": "3.8"
    }
  },
  "nbformat_minor": 4,
  "nbformat": 4,
  "cells": [
    {
      "cell_type": "markdown",
      "source": " <p align =center> <img src=\"https://github.com/esabahi/NSI_Images/blob/main/NSI-Image.png?raw=true\" width=350>\n    </p>",
      "metadata": {
        "id": "9w6gqUk23GWS"
      }
    },
    {
      "cell_type": "markdown",
      "source": "<h1 style=\"font-size: 30px; text-align: center\">TD5.4-Mise au point des programmes et gestion des bugs\n\n---\n\n# 🟥 Documenter son programme\n\n## 🐍 Exercice 1\n\n**Q1** : Donnez un meilleur nom et une chaîne de documentation à la fonction suivante.\n\n```python\ndef f(a, b):\n    return a + b\n```",
      "metadata": {
        "id": "GlWSTcNftLXO"
      }
    },
    {
      "cell_type": "code",
      "source": "# à vous de jouer !\n\ndef somme(a, b):\n    '''\n    renvoie la valeur de a+b\n    '''\n    return a + b",
      "metadata": {
        "id": "DVHmN_5CtLXS",
        "trusted": true
      },
      "execution_count": null,
      "outputs": []
    },
    {
      "cell_type": "markdown",
      "source": "**Q2** : Utilisez la fonction `help` pour accéder à la chaîne de documentation de cette fonction.",
      "metadata": {
        "id": "QkCK4yBztLXU"
      }
    },
    {
      "cell_type": "code",
      "source": "# à vous de jouer !\nhelp(somme)",
      "metadata": {
        "id": "xbFb6lyBtLXU",
        "trusted": true
      },
      "execution_count": null,
      "outputs": [
        {
          "name": "stdout",
          "text": "Help on function somme in module __main__:\n\nsomme(a, b)\n    renvoie la valeur de a+b\n\n",
          "output_type": "stream"
        }
      ]
    },
    {
      "cell_type": "markdown",
      "source": "## 🐍 Exercice 2\n\n**Q1** : Donnez un meilleur nom et une chaîne de documentation à la fonction suivante, le paramètre `t` étant un tableau.\n\n```python\ndef mystere(t):\n    s = 0\n    for i in range(len(t)):\n        s = s + t[i]\n    return s / n\n```",
      "metadata": {
        "id": "nx5ge4bAtLXV"
      }
    },
    {
      "cell_type": "code",
      "source": "# à vous de jouer !\n\ndef moyenne_tableau(t):\n    '''\n    Renvoie la somme des valeurs dans le tableau divisé par le nombre d'éléments du tableau\n    (renvoie la moyenne du tableau)\n    Les valeurs du tableau peuvent être des flottants\n    '''\n    s = 0\n    for i in range(len(t)):\n        s = s + t[i]\n    return s / n",
      "metadata": {
        "id": "il9m1YvEtLXV",
        "trusted": true
      },
      "execution_count": 7,
      "outputs": []
    },
    {
      "cell_type": "markdown",
      "source": "**Q2** : Utilisez la fonction `help` pour accéder à la chaîne de documentation de cette fonction.",
      "metadata": {
        "id": "G91FljqJtLXV"
      }
    },
    {
      "cell_type": "code",
      "source": "# à vous de jouer !\nhelp(moyenne_tableau)",
      "metadata": {
        "id": "pjFeagOatLXV",
        "trusted": true
      },
      "execution_count": 8,
      "outputs": [
        {
          "name": "stdout",
          "text": "Help on function moyenne_tableau in module __main__:\n\nmoyenne_tableau(t)\n    Renvoie la somme des valeurs dans le tableau divisé par le nombre d'éléments du tableau, (renvoie la moyenne du tableau)\n    Les valeurs du tableau peuvent être des flottants\n\n",
          "output_type": "stream"
        }
      ]
    },
    {
      "cell_type": "markdown",
      "source": "# 🟥 Programmation défensive\n\n## 🐍 Exercice 3\n\nOn considère la fonction `indice_maxi_tab(T)` suivante. À l'aide de la construction `assert`, proposez un test vérifiant si la précondition sur le tableau `T` est validée (*on ne cherchera pas à écrire la fonction*).",
      "metadata": {
        "id": "KdSb9o6wtLXV"
      }
    },
    {
      "cell_type": "code",
      "source": "def indice_maxi_tab(T):\n    \"\"\"\n    Renvoie l'indice de la première occurence de la valeur\n    maximale du tableau T. T est supposé non vide.\n    \"\"\"\n    assert not T==[],\"Le tableau est vide\"\n",
      "metadata": {
        "id": "Klk3T4SJtLXW",
        "trusted": true
      },
      "execution_count": 14,
      "outputs": [
        {
          "ename": "<class 'AssertionError'>",
          "evalue": "Le tableau est vide",
          "traceback": [
            "\u001b[0;31m---------------------------------------------------------------------------\u001b[0m",
            "\u001b[0;31mAssertionError\u001b[0m                            Traceback (most recent call last)",
            "Cell \u001b[0;32mIn[14], line 8\u001b[0m\n\u001b[1;32m      3\u001b[0m \u001b[38;5;250m    \u001b[39m\u001b[38;5;124;03m\"\"\"\u001b[39;00m\n\u001b[1;32m      4\u001b[0m \u001b[38;5;124;03m    Renvoie l'indice de la première occurence de la valeur\u001b[39;00m\n\u001b[1;32m      5\u001b[0m \u001b[38;5;124;03m    maximale du tableau T. T est supposé non vide.\u001b[39;00m\n\u001b[1;32m      6\u001b[0m \u001b[38;5;124;03m    \"\"\"\u001b[39;00m\n\u001b[1;32m      7\u001b[0m T\u001b[38;5;241m=\u001b[39m[]\n\u001b[0;32m----> 8\u001b[0m \u001b[38;5;28;01massert\u001b[39;00m \u001b[38;5;129;01mnot\u001b[39;00m T\u001b[38;5;241m==\u001b[39m[],\u001b[38;5;124m\"\u001b[39m\u001b[38;5;124mLe tableau est vide\u001b[39m\u001b[38;5;124m\"\u001b[39m\n\u001b[1;32m      9\u001b[0m \u001b[38;5;28mprint\u001b[39m(T)\n",
            "\u001b[0;31mAssertionError\u001b[0m: Le tableau est vide"
          ],
          "output_type": "error"
        }
      ]
    },
    {
      "cell_type": "markdown",
      "source": "## 🐍 Exercice 4\n\nOn considère la fonction `quotient(a, b)` suivante. À l'aide de la construction `assert`, proposez un test vérifiant si les préconditions sont validées.\n",
      "metadata": {
        "id": "NsHDXOfbtLXW"
      }
    },
    {
      "cell_type": "code",
      "source": "def quotient(a, b):\n    '''\n    Renvoie la valeur du quotient de a par b, b étant non nul.\n    '''\n    # TEST A ECRIRE ICI\n    assert not b==0,\"b est nul\"\nb=10\nassert not b==0,\"b est nul\"\nprint(b)\nb=0\nassert not b==0,\"b est nul\"\nprint(b)",
      "metadata": {
        "id": "NG5OBDXDtLXW",
        "trusted": true
      },
      "execution_count": 20,
      "outputs": [
        {
          "name": "stdout",
          "text": "10\n",
          "output_type": "stream"
        },
        {
          "ename": "<class 'AssertionError'>",
          "evalue": "b est nul",
          "traceback": [
            "\u001b[0;31m---------------------------------------------------------------------------\u001b[0m",
            "\u001b[0;31mAssertionError\u001b[0m                            Traceback (most recent call last)",
            "Cell \u001b[0;32mIn[20], line 11\u001b[0m\n\u001b[1;32m      9\u001b[0m \u001b[38;5;28mprint\u001b[39m(b)\n\u001b[1;32m     10\u001b[0m b\u001b[38;5;241m=\u001b[39m\u001b[38;5;241m0\u001b[39m\n\u001b[0;32m---> 11\u001b[0m \u001b[38;5;28;01massert\u001b[39;00m \u001b[38;5;129;01mnot\u001b[39;00m b\u001b[38;5;241m==\u001b[39m\u001b[38;5;241m0\u001b[39m,\u001b[38;5;124m\"\u001b[39m\u001b[38;5;124mb est nul\u001b[39m\u001b[38;5;124m\"\u001b[39m\n\u001b[1;32m     12\u001b[0m \u001b[38;5;28mprint\u001b[39m(b)\n",
            "\u001b[0;31mAssertionError\u001b[0m: b est nul"
          ],
          "output_type": "error"
        }
      ]
    },
    {
      "cell_type": "markdown",
      "source": "# 🟥 Tester ses programmes\n\n## 🐍 Exercice 5\n\n\n**Q1** : En utilisant `assert`, donnez un jeu de tests de qualité pour la fonction `multiplication` suivante.\n\n**Q2** : Vérifiez ensuite que les tests passent avec succès.",
      "metadata": {
        "id": "th-Kejq1tLXX"
      }
    },
    {
      "cell_type": "code",
      "source": "def multiplication(a, b):\n    '''\n    Renvoie le produit de a par b,\n    où a et b sont deux nombres quelconques.\n    '''\n    return a * b\n\n# jeu de tests à écrire ici\nassert multiplication(2,4)==8\nassert multiplication(0,8)==0\nassert multiplication(-1,8)==-8\nassert multiplication(-2,-9)==18\nassert multiplication(-0.1,5)==-0.5\nassert multiplication(-0.1,-0.1)==0.01\n",
      "metadata": {
        "id": "PFxJcBNotLXX",
        "trusted": true
      },
      "execution_count": 39,
      "outputs": [
        {
          "ename": "<class 'AssertionError'>",
          "evalue": "",
          "traceback": [
            "\u001b[0;31m---------------------------------------------------------------------------\u001b[0m",
            "\u001b[0;31mAssertionError\u001b[0m                            Traceback (most recent call last)",
            "Cell \u001b[0;32mIn[39], line 14\u001b[0m\n\u001b[1;32m     12\u001b[0m \u001b[38;5;28;01massert\u001b[39;00m multiplication(\u001b[38;5;241m-\u001b[39m\u001b[38;5;241m2\u001b[39m,\u001b[38;5;241m-\u001b[39m\u001b[38;5;241m9\u001b[39m)\u001b[38;5;241m==\u001b[39m\u001b[38;5;241m18\u001b[39m\n\u001b[1;32m     13\u001b[0m \u001b[38;5;28;01massert\u001b[39;00m multiplication(\u001b[38;5;241m-\u001b[39m\u001b[38;5;241m0.1\u001b[39m,\u001b[38;5;241m5\u001b[39m)\u001b[38;5;241m==\u001b[39m\u001b[38;5;241m-\u001b[39m\u001b[38;5;241m0.5\u001b[39m\n\u001b[0;32m---> 14\u001b[0m \u001b[38;5;28;01massert\u001b[39;00m multiplication(\u001b[38;5;241m-\u001b[39m\u001b[38;5;241m0.1\u001b[39m,\u001b[38;5;241m-\u001b[39m\u001b[38;5;241m0.1\u001b[39m)\u001b[38;5;241m==\u001b[39m\u001b[38;5;241m0.01\u001b[39m\n",
            "\u001b[0;31mAssertionError\u001b[0m: "
          ],
          "output_type": "error"
        }
      ]
    },
    {
      "cell_type": "markdown",
      "source": "## 🐍 Exercice 6\n\n\n**Q1** : En utilisant `assert`, donnez un jeu de tests de qualité pour la fonction `somme` suivante.\n\n**Q2** : Vérifiez ensuite que les tests passent avec succès.\n\n```python\ndef somme(t):\n    '''\n    Renvoie la somme des éléments du tableau t,\n    t étant un tableau de nombres\n    '''\n    s = 0\n    for i in range(len(t)):\n        s = s + t[i]\n    return s\n```",
      "metadata": {
        "id": "sXwgk7MBtLXX"
      }
    },
    {
      "cell_type": "markdown",
      "source": "def somme(t):\n    '''\n    Renvoie la somme des éléments du tableau t,\n    t étant un tableau de nombres\n    '''\n    s = 0\n    for i in range(len(t)):\n        s = s + t[i]\n    return s",
      "metadata": {
        "id": "40yxOiF-3B8X"
      }
    },
    {
      "cell_type": "code",
      "source": "def somme(t):\n    '''\n    Renvoie la somme des éléments du tableau t,\n    t étant un tableau de nombres\n    '''\n    s = 0\n    for i in range(len(t)):\n        s = s + t[i]\n    return s",
      "metadata": {
        "id": "aKd0ZiZ-tLXX",
        "trusted": true
      },
      "execution_count": 28,
      "outputs": []
    },
    {
      "cell_type": "code",
      "source": "# à vous de jouer !\nassert somme([1,3,9])==13\nassert somme([-2,4,9])==11\nassert somme([])==0\nassert somme([-0.5,1.5,5])==6",
      "metadata": {
        "trusted": true
      },
      "execution_count": 41,
      "outputs": []
    },
    {
      "cell_type": "markdown",
      "source": "## 🐍 Exercice 7\n\nOn cherche à écrire une fonction `est_croissant(t)` qui renvoie `True` si le tableau `t` est trié dans l'ordre croissant et `False` sinon.\n\n**Q1** : Complétez la fonction `tests_est_croissante` avec un jeu de tests de qualité pour la fonction `est_croissante` (*on ne cherchera pas à écrire le code de la fonction*).\n\n> <span style=\"font-size:1.5em\">📣</span> Ici, on écrit tous les tests dans une fonction, qu'il suffira d'appeler par la suite pour lancer les tests",
      "metadata": {
        "id": "9IAWq4P4tLXX"
      }
    },
    {
      "cell_type": "code",
      "source": "# à vous de jouer !\n\ndef tests_est_croissante():\n    \"\"\"\n    Fonction lançant des tests pour la fonction est_croissante\n    \"\"\"\n    # jeu de tests à écrire ici\n    assert est_croissant([1,2,3,3])==True\n    assert est_croissant([6,2,3])==False\n    assert est_croissant([0.1,3,3.5])==True\n    assert est_croissant([-1,2,5])==True\n    assert est_croissant([-2,-1,0])==True\n",
      "metadata": {
        "id": "Zq6KPO6XtLXY",
        "trusted": true
      },
      "execution_count": 14,
      "outputs": []
    },
    {
      "cell_type": "markdown",
      "source": "**Q2** : Un elève propose le code suivant pour la fonction `est_croissant(t)` de l'exercice précédent. Faites passer vos tests à cette fonction.\n",
      "metadata": {
        "id": "pWD0ioIvtLXY"
      }
    },
    {
      "cell_type": "code",
      "source": "def est_croissant(t):\n    \"\"\"\n    Renvoie True si le tableau t est trié dans l'ordre croissant,\n    et False sinon.\n    \"\"\"\n    for i in range(len(t)):\n        if t[i+1] > t[i]:\n            print(t[i+1],t[i])\n            return False\n    return True\ntests_est_croissante()",
      "metadata": {
        "id": "sIj1-GFktLXY",
        "trusted": true
      },
      "execution_count": 6,
      "outputs": [
        {
          "ename": "<class 'AssertionError'>",
          "evalue": "",
          "traceback": [
            "\u001b[0;31m---------------------------------------------------------------------------\u001b[0m",
            "\u001b[0;31mAssertionError\u001b[0m                            Traceback (most recent call last)",
            "Cell \u001b[0;32mIn[7], line 10\u001b[0m\n\u001b[1;32m      8\u001b[0m             \u001b[38;5;28;01mreturn\u001b[39;00m \u001b[38;5;28;01mTrue\u001b[39;00m\n\u001b[1;32m      9\u001b[0m     \u001b[38;5;28;01mreturn\u001b[39;00m \u001b[38;5;28;01mFalse\u001b[39;00m\n\u001b[0;32m---> 10\u001b[0m \u001b[43mtests_est_croissante\u001b[49m\u001b[43m(\u001b[49m\u001b[43m)\u001b[49m\n",
            "Cell \u001b[0;32mIn[5], line 9\u001b[0m, in \u001b[0;36mtests_est_croissante\u001b[0;34m()\u001b[0m\n\u001b[1;32m      7\u001b[0m \u001b[38;5;66;03m# jeu de tests à écrire ici\u001b[39;00m\n\u001b[1;32m      8\u001b[0m \u001b[38;5;28;01massert\u001b[39;00m est_croissant([\u001b[38;5;241m1\u001b[39m,\u001b[38;5;241m2\u001b[39m,\u001b[38;5;241m3\u001b[39m])\u001b[38;5;241m==\u001b[39m\u001b[38;5;28;01mTrue\u001b[39;00m\n\u001b[0;32m----> 9\u001b[0m \u001b[38;5;28;01massert\u001b[39;00m est_croissant([\u001b[38;5;241m6\u001b[39m,\u001b[38;5;241m2\u001b[39m,\u001b[38;5;241m3\u001b[39m])\u001b[38;5;241m==\u001b[39m\u001b[38;5;28;01mFalse\u001b[39;00m\n\u001b[1;32m     10\u001b[0m \u001b[38;5;28;01massert\u001b[39;00m est_croissant([\u001b[38;5;241m0.1\u001b[39m,\u001b[38;5;241m3\u001b[39m,\u001b[38;5;241m3.5\u001b[39m])\u001b[38;5;241m==\u001b[39m\u001b[38;5;28;01mTrue\u001b[39;00m\n\u001b[1;32m     11\u001b[0m \u001b[38;5;28;01massert\u001b[39;00m est_croissant([\u001b[38;5;241m-\u001b[39m\u001b[38;5;241m1\u001b[39m,\u001b[38;5;241m2\u001b[39m,\u001b[38;5;241m5\u001b[39m])\u001b[38;5;241m==\u001b[39m\u001b[38;5;28;01mTrue\u001b[39;00m\n",
            "\u001b[0;31mAssertionError\u001b[0m: "
          ],
          "output_type": "error"
        }
      ]
    },
    {
      "cell_type": "markdown",
      "source": "**Q3** : Trouvez l'erreur, soit en affichant l'état de certaines variables à des points stratégiques, soit en utilisant l'outil [Python tutor](https://pythontutor.com/python-debugger.html#mode=edit). Quelle est cette erreur ?\n\n",
      "metadata": {
        "id": "kmm8ClwPtLXY"
      }
    },
    {
      "cell_type": "raw",
      "source": "Réponse : Le return False n'est pas au bonne endroit, il devrait être à la place du return True",
      "metadata": {
        "id": "eIv1-XQdtLXY"
      }
    },
    {
      "cell_type": "markdown",
      "source": "**Q4** : Corrigez alors le code de la fonction et vérifiez que tous les tests sont validés.",
      "metadata": {
        "id": "-L62LB19tLXY"
      }
    },
    {
      "cell_type": "code",
      "source": "# à vous de jouer !\ndef est_croissant(t):\n    \"\"\"\n    Renvoie True si le tableau t est trié dans l'ordre croissant,\n    et False sinon.\n    \"\"\"\n    try:\n        for i in range (len(t)):\n            if t[i+1] >= t[i]:\n                print(t[i+1],\"est supérieur à\",t[i])\n            else:\n                print(t[i+1],\"n'est pas supérieur à\",t[i])\n                return False\n    except:\n        return True\ntests_est_croissante()",
      "metadata": {
        "id": "xEmJJbHBtLXZ",
        "trusted": true
      },
      "execution_count": 18,
      "outputs": [
        {
          "name": "stdout",
          "text": "2 est supérieur à 1\n3 est supérieur à 2\n3 est supérieur à 3\n2 n'est pas supérieur à 6\n3 est supérieur à 0.1\n3.5 est supérieur à 3\n2 est supérieur à -1\n5 est supérieur à 2\n-1 est supérieur à -2\n0 est supérieur à -1\n",
          "output_type": "stream"
        }
      ]
    },
    {
      "cell_type": "markdown",
      "source": "## 🐍 Exercice 8\n\nOn veut écrire une fonction `annee_naissance(prenom, tab)` qui renvoie l'année de naissance de la personne ayant pour prénom `prenom` dans le tableau `tab`, dont les éléments sont des tuples de la forme (prénom, année de naissance, ville de naissance). Si `prenom` n'apparaît pas dans `tab` alors la fonction doit renvoyer `None`.\n\nExemple :\n\n```python\n>>> tab = [('Lucas', 2002, 'Marseille'), ('Élodie', 2003, 'Angers'), ('Marie', 2001, 'Angers'), ('Jade', 2007, 'New York')]\n>>> annee_naissance('Marie', tab)\n2001\n```",
      "metadata": {
        "id": "O8mpgLsYtLXZ"
      }
    },
    {
      "cell_type": "markdown",
      "source": "**Q1** : Proposez une fonction `test_annee_naissance` qui permettra de tester la fonction `annee_naissance` grâce à un jeu de tests bien choisi.",
      "metadata": {
        "id": "qfK5fzOVtLXZ"
      }
    },
    {
      "cell_type": "code",
      "source": "# à vous de jouer !\ndef test_annee_naissance():\n    assert annee_naissance('Lucas', tab)==2002\n    assert annee_naissance('Martin', tab)==None\n    assert annee_naissance('Marie', tab)==2001\n    assert annee_naissance('', tab)==None",
      "metadata": {
        "id": "aLZy5wPstLXZ",
        "trusted": true
      },
      "execution_count": 35,
      "outputs": []
    },
    {
      "cell_type": "markdown",
      "source": "**Q2** : Écrivez la fonction `annee_naissance(prenom, tab)` et vérifiez qu'elle passe tous les tests.",
      "metadata": {
        "id": "yXwIQzz8tLXa"
      }
    },
    {
      "cell_type": "code",
      "source": "# à vous de jouer !\ndef annee_naissance(prenom,tab):\n    for i in range (len(tab)):\n        if tab[i][0]==prenom:\n            print(tab[i][1])\n            return tab[i][1]\n    return None\n\ntab = [('Lucas', 2002, 'Marseille'), ('Élodie', 2003, 'Angers'), ('Marie', 2001, 'Angers'), ('Jade', 2007, 'New York')]\ntest_annee_naissance()",
      "metadata": {
        "id": "Vfh9M-uHtLXa",
        "trusted": true
      },
      "execution_count": 36,
      "outputs": [
        {
          "name": "stdout",
          "text": "2002\n2001\n",
          "output_type": "stream"
        }
      ]
    },
    {
      "cell_type": "markdown",
      "source": "## 🐍 Exercice 9\n\nOn veut écrire une fonction `meilleure_note` qui prend en paramètre un dictionnaire `resultats` dans lequel les clés sont des prénoms d'élèves et leurs valeurs associées sont des notes à un devoir, et qui renvoie la meilleure note à ce devoir.\n\nExemple :\n\n```python\n>>> meilleure_note({'Marie': 15, 'Laurent': 12, 'Julie': 18, 'Antoine': 17})\n18\n```\n\n**Q1** : Écrivez la chaîne de documentation de cette fonction `meilleure_note` pour y intégrer directement les tests.",
      "metadata": {
        "id": "fFzA0QTstLXa"
      }
    },
    {
      "cell_type": "code",
      "source": "# à vous de jouer !\nimport doctest\ndoctest.testmod()\ndoctest.testmod(verbose = True)\ndef meilleure_note(resultats):\n    valeurs = list(resultats.values())\n    ma=valeurs.index(max(valeurs))\n    return valeurs[ma]\n    '''\n    Renvoie la meilleure note parmi les valeurs du dictionnaire\n\n    >>> meilleure_note({'Marie': 16, 'Laurent': 13, 'Julie': 20, 'Antoine': 18})\n    20\n\n    >>> meilleure_note({'Marie': -16, 'Laurent': -13, 'Julie': -20, 'Antoine': -18})\n    -13\n\n    >>> meilleure_note({'Marie': 0, 'Laurent': 0, 'Julie': 0, 'Antoine': 0})\n    0\n\n    >>> meilleure_note({'Marie': 1.4, 'Laurent': 1.5, 'Julie': 0.1, 'Antoine': 0.5})\n    1.5\n    '''",
      "metadata": {
        "id": "qXHTCkxUtLXa",
        "trusted": true
      },
      "execution_count": 11,
      "outputs": [
        {
          "ename": "<class 'TypeError'>",
          "evalue": "testmod: module required; <IPython.core.interactiveshell.DummyMod object at 0x2053ea0>",
          "traceback": [
            "\u001b[0;31m---------------------------------------------------------------------------\u001b[0m",
            "\u001b[0;31mTypeError\u001b[0m                                 Traceback (most recent call last)",
            "Cell \u001b[0;32mIn[11], line 3\u001b[0m\n\u001b[1;32m      1\u001b[0m \u001b[38;5;66;03m# à vous de jouer !\u001b[39;00m\n\u001b[1;32m      2\u001b[0m \u001b[38;5;28;01mimport\u001b[39;00m \u001b[38;5;21;01mdoctest\u001b[39;00m\n\u001b[0;32m----> 3\u001b[0m \u001b[43mdoctest\u001b[49m\u001b[38;5;241;43m.\u001b[39;49m\u001b[43mtestmod\u001b[49m\u001b[43m(\u001b[49m\u001b[43m)\u001b[49m\n\u001b[1;32m      4\u001b[0m doctest\u001b[38;5;241m.\u001b[39mtestmod(verbose \u001b[38;5;241m=\u001b[39m \u001b[38;5;28;01mTrue\u001b[39;00m)\n\u001b[1;32m      5\u001b[0m \u001b[38;5;28;01mdef\u001b[39;00m \u001b[38;5;21mmeilleure_note\u001b[39m(liste):\n",
            "File \u001b[0;32m/lib/python311.zip/doctest.py:1956\u001b[0m, in \u001b[0;36mtestmod\u001b[0;34m(m, name, globs, verbose, report, optionflags, extraglobs, raise_on_error, exclude_empty)\u001b[0m\n\u001b[1;32m   1954\u001b[0m \u001b[38;5;66;03m# Check that we were actually given a module.\u001b[39;00m\n\u001b[1;32m   1955\u001b[0m \u001b[38;5;28;01mif\u001b[39;00m \u001b[38;5;129;01mnot\u001b[39;00m inspect\u001b[38;5;241m.\u001b[39mismodule(m):\n\u001b[0;32m-> 1956\u001b[0m     \u001b[38;5;28;01mraise\u001b[39;00m \u001b[38;5;167;01mTypeError\u001b[39;00m(\u001b[38;5;124m\"\u001b[39m\u001b[38;5;124mtestmod: module required; \u001b[39m\u001b[38;5;132;01m%r\u001b[39;00m\u001b[38;5;124m\"\u001b[39m \u001b[38;5;241m%\u001b[39m (m,))\n\u001b[1;32m   1958\u001b[0m \u001b[38;5;66;03m# If no name was given, then use the module's name.\u001b[39;00m\n\u001b[1;32m   1959\u001b[0m \u001b[38;5;28;01mif\u001b[39;00m name \u001b[38;5;129;01mis\u001b[39;00m \u001b[38;5;28;01mNone\u001b[39;00m:\n",
            "\u001b[0;31mTypeError\u001b[0m: testmod: module required; <IPython.core.interactiveshell.DummyMod object at 0x2053ea0>"
          ],
          "output_type": "error"
        }
      ]
    },
    {
      "cell_type": "markdown",
      "source": "**Q2** : Écrivez le code de cette fonction.\n\n**Q3** : Utilisez le module `doctest` pour vérifier les tests intégrés à la chaîne de documentation. Modifiez la fonction si les tests échouent.",
      "metadata": {
        "id": "OcebVU6dtLXa"
      }
    },
    {
      "cell_type": "code",
      "source": "# à vous de jouer !\nimport doctest\ndoctest.testmod()\ndoctest.testmod(verbose = True)\nhelp(meilleure_note)",
      "metadata": {
        "id": "1toYlgoAtLXb",
        "trusted": true
      },
      "execution_count": 7,
      "outputs": [
        {
          "execution_count": 8,
          "output_type": "execute_result",
          "data": {
            "text/plain": "-13"
          },
          "metadata": {}
        }
      ]
    },
    {
      "cell_type": "markdown",
      "source": "---\n\n**Références :**\n- Documents ressources du DIU EIL Nantes, C. DECLERCQ.\n- Numérique et Sciences Informatiques, 1re, T. BALABONSKI, S. CONCHON, J.-C. FILLIATRE, K. NGUYEN, éditions ELLIPSES : [Site du livre](https://www.nsi-premiere.fr/)\n-Germain BECKER & Sébastien POINT, Lycée Mounier, ANGERS",
      "metadata": {
        "id": "5O7H9-ektLXb"
      }
    },
    {
      "cell_type": "markdown",
      "source": "| <span style='color:Blue'> L.H & E.S |  | |   | |     |<span style='color:Blue'> NSI Terminale | |   | ||<span style='color:Blue'> Lycée Ozanam (Lille)|\n| --- | --- |--- |--- |--- |--- | --- | --- |--- |--- | --- | --- |",
      "metadata": {
        "id": "3AMQDjOf4CpJ"
      }
    }
  ]
}