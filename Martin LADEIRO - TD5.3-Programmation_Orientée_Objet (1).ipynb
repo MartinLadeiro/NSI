{
  "metadata": {
    "colab": {
      "provenance": []
    },
    "kernelspec": {
      "name": "python",
      "display_name": "Python (Pyodide)",
      "language": "python"
    },
    "language_info": {
      "codemirror_mode": {
        "name": "python",
        "version": 3
      },
      "file_extension": ".py",
      "mimetype": "text/x-python",
      "name": "python",
      "nbconvert_exporter": "python",
      "pygments_lexer": "ipython3",
      "version": "3.8"
    }
  },
  "nbformat_minor": 5,
  "nbformat": 4,
  "cells": [
    {
      "cell_type": "markdown",
      "source": "---",
      "metadata": {},
      "id": "ed0a8088"
    },
    {
      "cell_type": "markdown",
      "source": " <p align =center> <img src=\"https://github.com/esabahi/NSI_Images/blob/main/NSI-Image.png?raw=true\" width=350>\n    </p>",
      "metadata": {},
      "id": "b88a1932"
    },
    {
      "cell_type": "markdown",
      "source": "# TD5.3 - Programmation_Orientée_Objet\n\n\n****************************************\n\n",
      "metadata": {
        "id": "W84lcE_dziVB"
      },
      "id": "W84lcE_dziVB"
    },
    {
      "cell_type": "markdown",
      "source": "Exercice 1:",
      "metadata": {},
      "id": "f083c0e8"
    },
    {
      "cell_type": "markdown",
      "source": "Votre réponse:\n\n---------\n<font color='green'>ici.....</font>\n",
      "metadata": {
        "id": "1c703444"
      },
      "id": "1c703444"
    },
    {
      "cell_type": "code",
      "source": "class Film:\n    def __init__(self, titre, real):\n        self.titre=titre\n        self.real=real\n        \n    def get_titre(self):\n        return self.titre\n    \n    def set_titre(self, titre):\n        self.titre=titre    \n        \n    def get_real(self):\n        return self.real\n    \n    def set_real(self, real):\n        self.real=real  \n        \nclass Acteur:\n    def __init__(self,nom,naissance):\n        self.nom=nom\n        self.naissance=naissance\n\n    def get_nom(self):\n        return self.nom\n    \n    def set_nom(self, nom):\n        self.nom=nom\n        \n    def get_naissance(self):\n        return self.naissance\n    \n    def set_naissance(self, naissance):\n        self.naissance=naissance\n    \nfilm=Film(\"titanic\",\"james cameron\")\nacteur=Acteur(\"Leonardo\",\"1960\")\n#print(test.titre,test.real)\n'''\nfilm.set_titre(\"titanic\")\nfilm.set_real(\"james cameron\")\nacteur.set_nom(\"Leonardo\")\nacteur.set_naissance(\"1960\")\n'''             \nprint(film.get_titre())\nprint(film.get_real())\nprint(acteur.get_nom())\nprint(acteur.get_naissance())",
      "metadata": {
        "vscode": {
          "languageId": "plaintext"
        },
        "trusted": true
      },
      "execution_count": 30,
      "outputs": [
        {
          "name": "stdout",
          "text": "titanic\njames cameron\nLeonardo\n1960\n",
          "output_type": "stream"
        }
      ],
      "id": "8c5f9934"
    },
    {
      "cell_type": "markdown",
      "source": "Exercice 2:",
      "metadata": {},
      "id": "260c6300"
    },
    {
      "cell_type": "markdown",
      "source": "Votre réponse:\n\n---------\n<font color='green'>ici.....</font>\n",
      "metadata": {},
      "id": "a8a8886a"
    },
    {
      "cell_type": "code",
      "source": "class Personne:\n    def __init__(self, rue, ville, code):\n        self.rue=rue\n        self.ville=ville\n        self.code=code \n    def get_rue(self):\n        return self.rue\n    def set_rue(self, rue):\n        self.rue=rue    \n    def get_ville(self):\n        return self.ville\n    def set_real(self, ville):\n        self.ville=ville\n    def get_code(self):\n        return self.code\n    def set_code(self, code):\n        self.code=code\n    def __repr__(self):\n        return f\"{self.nom} est une personne de {self.age} ans.\"\n\npersonne=Personne(\"Leon Blum\",\"Mons\",\"5900\")\n\n               \nprint(personne.get_rue())\nprint(personne.get_ville())\nprint(personne.get_code())\n\n. Créez les deux classes Adresse et Personne dans deux fichiers différents. N’oubliez pas de\ndéfinir les getters/setters et les constructeurs.\n\n. Créez une troisième classe ListePersonnes ayant un seul attribut personnes : un tableau\nd’objets Personne. Définissez les getters/setters et le constructeur de cette classe.\n\n. Écrivez la méthode find by_nom(s: str) qui permet de chercher dans le tableau personnes\nsi l’attribut nom d’un est égal à la valeur du paramètre s. Si c’est le cas, elle retourne le premier\nobjet correspondant, sinon null.\n\n. Écrivez la méthode exists_code_postal(cp: str) qui permet de vérifier dans le tableau\npersonnes si un objet possède au moins une adresse dont le code postal égal au paramètre cp.\nSi c’est le cas, elle retourne True, sinon False.\n\n. Écrivez la méthode count_personne_ville(ville: str) qui permet de calculer le nombre\nd’objets dans le tableau personnes ayant une adresse dans la ville passée en paramètre.\n\n. Écrivez la méthode edit_personnenom(oldNom: str, newNom: str) qui remplace les noms\nde personnes ayant un nom égal à la valeur o1dNom par newNom\n\n. Écrivez la méthode edit_personne_ville(nom: str, newVille: str) qui remplace les villes\nde personnes ayant un nom égal à la valeur du paramètre nom La newVille\n",
      "metadata": {
        "vscode": {
          "languageId": "plaintext"
        },
        "trusted": true
      },
      "execution_count": 28,
      "outputs": [
        {
          "ename": "<class 'NameError'>",
          "evalue": "name 'Adresses' is not defined",
          "traceback": [
            "\u001b[0;31m---------------------------------------------------------------------------\u001b[0m",
            "\u001b[0;31mNameError\u001b[0m                                 Traceback (most recent call last)",
            "Cell \u001b[0;32mIn[28], line 38\u001b[0m\n\u001b[1;32m     35\u001b[0m         \u001b[38;5;28mself\u001b[39m\u001b[38;5;241m.\u001b[39madresses\u001b[38;5;241m=\u001b[39madresses\n\u001b[1;32m     37\u001b[0m personne\u001b[38;5;241m=\u001b[39mPersonne(\u001b[38;5;124m\"\u001b[39m\u001b[38;5;124mLeon Blum\u001b[39m\u001b[38;5;124m\"\u001b[39m,\u001b[38;5;124m\"\u001b[39m\u001b[38;5;124mMons\u001b[39m\u001b[38;5;124m\"\u001b[39m,\u001b[38;5;124m\"\u001b[39m\u001b[38;5;124m5900\u001b[39m\u001b[38;5;124m\"\u001b[39m)\n\u001b[0;32m---> 38\u001b[0m adresses\u001b[38;5;241m=\u001b[39m\u001b[43mAdresses\u001b[49m(\u001b[38;5;124m\"\u001b[39m\u001b[38;5;124mMartin\u001b[39m\u001b[38;5;124m\"\u001b[39m,\u001b[38;5;124m\"\u001b[39m\u001b[38;5;124mM\u001b[39m\u001b[38;5;124m\"\u001b[39m,[])\n\u001b[1;32m     40\u001b[0m \u001b[38;5;28mprint\u001b[39m(personne\u001b[38;5;241m.\u001b[39mget_rue())\n\u001b[1;32m     41\u001b[0m \u001b[38;5;28mprint\u001b[39m(personne\u001b[38;5;241m.\u001b[39mget_ville())\n",
            "\u001b[0;31mNameError\u001b[0m: name 'Adresses' is not defined"
          ],
          "output_type": "error"
        }
      ],
      "id": "0c4d13fa"
    },
    {
      "cell_type": "code",
      "source": "class Addresses:\n    def __init__(self,nom,sexe,adresses):\n        self.nom=nom\n        self.sexe=sexe\n        self.adresses=adresses\n    def get_nom(self):\n        return self.nom   \n    def set_nom(self, nom):\n        self.nom=nom \n    def get_sexe(self):\n        return self.sexe\n    def set_sexe(self, sexe):\n        self.sexe=sexe\n    def get_adresses(self):\n        return self.adresses\n    def set_adresses(self, adresses):\n        self.adresses=adresses\n        \nclass Listepersonnes:\n    def __init__(self,personnes):\n        self.personnes=personnes\n    def get_personnes(self):\n        return self.personnes\n    \n    def find_by_name(s):\n        for in range (len(liste)):\n            if s==liste[i]:\n                return liste[i]\n            else:\n                return null\n    def exists_code_postal(cp):\n        for in range (len(liste)):\n            if cp==liste[i]:\n                return True\n            else:\n                return False\n    def count_personne_ville(v):\n        n=0\n        for i in range (len(liste)):\n            if liste[i]==v:\n                n=n+1\n        return n\n    def edit_personnenom(oldNom,newNom) \n                for i in range (len(liste)):\n                    if liste[i]==oldNom:\n                        liste[i]=newNom\n    def edit_personne_ville(nom,newVille) \n    \n    qui remplace les villes\nde personnes ayant un nom égal à la valeur du paramètre nom La newVille                \n        \nadresses=Adresses(\"Martin\",\"M\",[])\nliste=Listepersonnes([\"Mart1\",\"Mart2\",\"Mart3\"])\ns=\"Mart1\"\ncp=\"\"\nv=\"\"\noldNom=\"\" \nnewNom=\"\"\nnom=\"\"\nnewVille=\"\"\nprint(adresses.get_nom())\nprint(adresses.get_sexe())\nprint(adresses.get_adresses())\nprint(liste.get_personnes())\n",
      "metadata": {
        "trusted": true
      },
      "execution_count": 3,
      "outputs": [
        {
          "ename": "<class 'NameError'>",
          "evalue": "name 'Adresses' is not defined",
          "traceback": [
            "\u001b[0;31m---------------------------------------------------------------------------\u001b[0m",
            "\u001b[0;31mNameError\u001b[0m                                 Traceback (most recent call last)",
            "Cell \u001b[0;32mIn[3], line 24\u001b[0m\n\u001b[1;32m     21\u001b[0m     \u001b[38;5;28;01mdef\u001b[39;00m \u001b[38;5;21mget_personne\u001b[39m(\u001b[38;5;28mself\u001b[39m):\n\u001b[1;32m     22\u001b[0m         \u001b[38;5;28;01mreturn\u001b[39;00m \u001b[38;5;28mself\u001b[39m\u001b[38;5;241m.\u001b[39mpersonne\n\u001b[0;32m---> 24\u001b[0m adresses\u001b[38;5;241m=\u001b[39m\u001b[43mAdresses\u001b[49m(\u001b[38;5;124m\"\u001b[39m\u001b[38;5;124mMartin\u001b[39m\u001b[38;5;124m\"\u001b[39m,\u001b[38;5;124m\"\u001b[39m\u001b[38;5;124mM\u001b[39m\u001b[38;5;124m\"\u001b[39m,[])\n\u001b[1;32m     25\u001b[0m liste\u001b[38;5;241m=\u001b[39mListepersonne([\u001b[38;5;124m\"\u001b[39m\u001b[38;5;124mMart1\u001b[39m\u001b[38;5;124m\"\u001b[39m,\u001b[38;5;124m\"\u001b[39m\u001b[38;5;124mMart2\u001b[39m\u001b[38;5;124m\"\u001b[39m,\u001b[38;5;124m\"\u001b[39m\u001b[38;5;124mMart3\u001b[39m\u001b[38;5;124m\"\u001b[39m])\n\u001b[1;32m     26\u001b[0m \u001b[38;5;124;03m'''                   \u001b[39;00m\n\u001b[1;32m     27\u001b[0m \u001b[38;5;124;03ms=\"Mart1\"\u001b[39;00m\n\u001b[1;32m     28\u001b[0m \u001b[38;5;124;03mif find by_nom(s: str)=='''\u001b[39;00m\n",
            "\u001b[0;31mNameError\u001b[0m: name 'Adresses' is not defined"
          ],
          "output_type": "error"
        }
      ],
      "id": "d04623e7-4123-406a-ba37-96912d082164"
    },
    {
      "cell_type": "code",
      "source": "",
      "metadata": {},
      "execution_count": null,
      "outputs": [],
      "id": "69f5ac7d-fcea-46c3-9177-dfdbf4f68a4a"
    }
  ]
}